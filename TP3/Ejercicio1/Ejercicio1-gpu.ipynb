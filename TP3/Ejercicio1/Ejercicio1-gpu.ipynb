{
  "nbformat": 4,
  "nbformat_minor": 0,
  "metadata": {
    "colab": {
      "name": "Copia de Prueba 2 - Imagen - GPU.ipynb",
      "provenance": [],
      "collapsed_sections": [],
      "include_colab_link": true
    },
    "kernelspec": {
      "name": "python3",
      "display_name": "Python 3"
    },
    "accelerator": "GPU"
  },
  "cells": [
    {
      "cell_type": "markdown",
      "metadata": {
        "id": "view-in-github",
        "colab_type": "text"
      },
      "source": [
        "<a href=\"https://colab.research.google.com/github/Sandoval-G-98/SOA-AppJava/blob/feature%2FTP3-ejercicio-1/TP3/Ejercicio1/Ejercicio1-gpu.ipynb\" target=\"_parent\"><img src=\"https://colab.research.google.com/assets/colab-badge.svg\" alt=\"Open In Colab\"/></a>"
      ]
    },
    {
      "cell_type": "markdown",
      "metadata": {
        "id": "qoYPFWcielY3"
      },
      "source": [
        "# 1 Introducción\n",
        "\n",
        "El siguiente ejemplo modifica el color de una imágen parametrizada, a escala de grises. El cálculo de la escala se realiza convirtiendo los 3 canales RGB, que representan a los colores R (*rojo*)-G(*verde*)-B(*azul*), de cada pixel siguiendo la ecuación:\n",
        "\n",
        "<center>$ Pixel=R*0.30+G*0.59+B*0.11$</center>\n",
        "\n",
        "EL objetivo es enseñar el funcionamiento del Lenguaje Python, CUDA y el manejo de imagenes a bajo nivel. El ejemplo es ilustrativo, ya que internamente el módulo Pillow posee varios filtros integrados."
      ]
    },
    {
      "cell_type": "markdown",
      "metadata": {
        "id": "32YB71STfPcy"
      },
      "source": [
        "---\n",
        "# 2 Armado del ambiente\n",
        "Toma la direcciòn web de una imagen con  acceso público en internet, la deja disponible al contexto de ejecuciòn del cuaderno colab."
      ]
    },
    {
      "cell_type": "code",
      "metadata": {
        "id": "QcnL4UkAN7ub",
        "colab": {
          "base_uri": "https://localhost:8080/"
        },
        "outputId": "33166fd7-4c79-455b-e69a-8ef30fea387c"
      },
      "source": [
        "#@title # 2.1 Parámetros de ejecución\n",
        "#@markdown ---\n",
        "#@markdown ### Especifique la URL de la imagen:\n",
        "url_imagen = \"https://github.com/wvaliente/SOA_HPC/blob/main/unlam.jpg?raw=true\" #@param {type:\"string\"}\n",
        "\n",
        "#@markdown ---\n",
        "# Leo la imagen desde internet.\n",
        "#!wget https://github.com/wvaliente/SOA_HPC/blob/main/unlam.jpg?raw=true -O imagen.jpg\n",
        "\n",
        "# TODO: Mejorar informaciòn y resutlado de ejecución. \n",
        "!wget {url_imagen} -O imagen.jpg\n",
        "\n"
      ],
      "execution_count": 3,
      "outputs": [
        {
          "output_type": "stream",
          "name": "stdout",
          "text": [
            "--2021-11-22 18:49:33--  https://github.com/wvaliente/SOA_HPC/blob/main/unlam.jpg?raw=true\n",
            "Resolving github.com (github.com)... 140.82.113.4\n",
            "Connecting to github.com (github.com)|140.82.113.4|:443... connected.\n",
            "HTTP request sent, awaiting response... 302 Found\n",
            "Location: https://github.com/wvaliente/SOA_HPC/raw/main/unlam.jpg [following]\n",
            "--2021-11-22 18:49:33--  https://github.com/wvaliente/SOA_HPC/raw/main/unlam.jpg\n",
            "Reusing existing connection to github.com:443.\n",
            "HTTP request sent, awaiting response... 302 Found\n",
            "Location: https://raw.githubusercontent.com/wvaliente/SOA_HPC/main/unlam.jpg [following]\n",
            "--2021-11-22 18:49:33--  https://raw.githubusercontent.com/wvaliente/SOA_HPC/main/unlam.jpg\n",
            "Resolving raw.githubusercontent.com (raw.githubusercontent.com)... 185.199.108.133, 185.199.109.133, 185.199.110.133, ...\n",
            "Connecting to raw.githubusercontent.com (raw.githubusercontent.com)|185.199.108.133|:443... connected.\n",
            "HTTP request sent, awaiting response... 200 OK\n",
            "Length: 147032 (144K) [image/jpeg]\n",
            "Saving to: ‘imagen.jpg’\n",
            "\n",
            "imagen.jpg          100%[===================>] 143.59K  --.-KB/s    in 0.003s  \n",
            "\n",
            "2021-11-22 18:49:33 (47.9 MB/s) - ‘imagen.jpg’ saved [147032/147032]\n",
            "\n"
          ]
        }
      ]
    },
    {
      "cell_type": "markdown",
      "metadata": {
        "id": "3GLsQ34ysP4_"
      },
      "source": [
        "---\n",
        "## 2.2 Instala en el cuaderno el módulo CUDA de Python."
      ]
    },
    {
      "cell_type": "code",
      "metadata": {
        "id": "ropgS48tsRTv",
        "colab": {
          "base_uri": "https://localhost:8080/"
        },
        "outputId": "e4e3d61d-4f37-4c99-defe-9f1ba1e61a07"
      },
      "source": [
        "!pip install pycuda"
      ],
      "execution_count": 1,
      "outputs": [
        {
          "output_type": "stream",
          "name": "stdout",
          "text": [
            "Collecting pycuda\n",
            "  Downloading pycuda-2021.1.tar.gz (1.7 MB)\n",
            "\u001b[?25l\r\u001b[K     |▏                               | 10 kB 24.9 MB/s eta 0:00:01\r\u001b[K     |▍                               | 20 kB 31.6 MB/s eta 0:00:01\r\u001b[K     |▋                               | 30 kB 34.3 MB/s eta 0:00:01\r\u001b[K     |▉                               | 40 kB 35.2 MB/s eta 0:00:01\r\u001b[K     |█                               | 51 kB 36.5 MB/s eta 0:00:01\r\u001b[K     |█▏                              | 61 kB 39.6 MB/s eta 0:00:01\r\u001b[K     |█▍                              | 71 kB 27.7 MB/s eta 0:00:01\r\u001b[K     |█▋                              | 81 kB 27.6 MB/s eta 0:00:01\r\u001b[K     |█▊                              | 92 kB 28.0 MB/s eta 0:00:01\r\u001b[K     |██                              | 102 kB 29.7 MB/s eta 0:00:01\r\u001b[K     |██▏                             | 112 kB 29.7 MB/s eta 0:00:01\r\u001b[K     |██▍                             | 122 kB 29.7 MB/s eta 0:00:01\r\u001b[K     |██▌                             | 133 kB 29.7 MB/s eta 0:00:01\r\u001b[K     |██▊                             | 143 kB 29.7 MB/s eta 0:00:01\r\u001b[K     |███                             | 153 kB 29.7 MB/s eta 0:00:01\r\u001b[K     |███▏                            | 163 kB 29.7 MB/s eta 0:00:01\r\u001b[K     |███▎                            | 174 kB 29.7 MB/s eta 0:00:01\r\u001b[K     |███▌                            | 184 kB 29.7 MB/s eta 0:00:01\r\u001b[K     |███▊                            | 194 kB 29.7 MB/s eta 0:00:01\r\u001b[K     |████                            | 204 kB 29.7 MB/s eta 0:00:01\r\u001b[K     |████                            | 215 kB 29.7 MB/s eta 0:00:01\r\u001b[K     |████▎                           | 225 kB 29.7 MB/s eta 0:00:01\r\u001b[K     |████▌                           | 235 kB 29.7 MB/s eta 0:00:01\r\u001b[K     |████▊                           | 245 kB 29.7 MB/s eta 0:00:01\r\u001b[K     |████▉                           | 256 kB 29.7 MB/s eta 0:00:01\r\u001b[K     |█████                           | 266 kB 29.7 MB/s eta 0:00:01\r\u001b[K     |█████▎                          | 276 kB 29.7 MB/s eta 0:00:01\r\u001b[K     |█████▌                          | 286 kB 29.7 MB/s eta 0:00:01\r\u001b[K     |█████▋                          | 296 kB 29.7 MB/s eta 0:00:01\r\u001b[K     |█████▉                          | 307 kB 29.7 MB/s eta 0:00:01\r\u001b[K     |██████                          | 317 kB 29.7 MB/s eta 0:00:01\r\u001b[K     |██████▎                         | 327 kB 29.7 MB/s eta 0:00:01\r\u001b[K     |██████▍                         | 337 kB 29.7 MB/s eta 0:00:01\r\u001b[K     |██████▋                         | 348 kB 29.7 MB/s eta 0:00:01\r\u001b[K     |██████▉                         | 358 kB 29.7 MB/s eta 0:00:01\r\u001b[K     |███████                         | 368 kB 29.7 MB/s eta 0:00:01\r\u001b[K     |███████▏                        | 378 kB 29.7 MB/s eta 0:00:01\r\u001b[K     |███████▍                        | 389 kB 29.7 MB/s eta 0:00:01\r\u001b[K     |███████▋                        | 399 kB 29.7 MB/s eta 0:00:01\r\u001b[K     |███████▉                        | 409 kB 29.7 MB/s eta 0:00:01\r\u001b[K     |████████                        | 419 kB 29.7 MB/s eta 0:00:01\r\u001b[K     |████████▏                       | 430 kB 29.7 MB/s eta 0:00:01\r\u001b[K     |████████▍                       | 440 kB 29.7 MB/s eta 0:00:01\r\u001b[K     |████████▋                       | 450 kB 29.7 MB/s eta 0:00:01\r\u001b[K     |████████▊                       | 460 kB 29.7 MB/s eta 0:00:01\r\u001b[K     |█████████                       | 471 kB 29.7 MB/s eta 0:00:01\r\u001b[K     |█████████▏                      | 481 kB 29.7 MB/s eta 0:00:01\r\u001b[K     |█████████▍                      | 491 kB 29.7 MB/s eta 0:00:01\r\u001b[K     |█████████▌                      | 501 kB 29.7 MB/s eta 0:00:01\r\u001b[K     |█████████▊                      | 512 kB 29.7 MB/s eta 0:00:01\r\u001b[K     |██████████                      | 522 kB 29.7 MB/s eta 0:00:01\r\u001b[K     |██████████▏                     | 532 kB 29.7 MB/s eta 0:00:01\r\u001b[K     |██████████▎                     | 542 kB 29.7 MB/s eta 0:00:01\r\u001b[K     |██████████▌                     | 552 kB 29.7 MB/s eta 0:00:01\r\u001b[K     |██████████▊                     | 563 kB 29.7 MB/s eta 0:00:01\r\u001b[K     |███████████                     | 573 kB 29.7 MB/s eta 0:00:01\r\u001b[K     |███████████                     | 583 kB 29.7 MB/s eta 0:00:01\r\u001b[K     |███████████▎                    | 593 kB 29.7 MB/s eta 0:00:01\r\u001b[K     |███████████▌                    | 604 kB 29.7 MB/s eta 0:00:01\r\u001b[K     |███████████▊                    | 614 kB 29.7 MB/s eta 0:00:01\r\u001b[K     |███████████▉                    | 624 kB 29.7 MB/s eta 0:00:01\r\u001b[K     |████████████                    | 634 kB 29.7 MB/s eta 0:00:01\r\u001b[K     |████████████▎                   | 645 kB 29.7 MB/s eta 0:00:01\r\u001b[K     |████████████▌                   | 655 kB 29.7 MB/s eta 0:00:01\r\u001b[K     |████████████▋                   | 665 kB 29.7 MB/s eta 0:00:01\r\u001b[K     |████████████▉                   | 675 kB 29.7 MB/s eta 0:00:01\r\u001b[K     |█████████████                   | 686 kB 29.7 MB/s eta 0:00:01\r\u001b[K     |█████████████▎                  | 696 kB 29.7 MB/s eta 0:00:01\r\u001b[K     |█████████████▍                  | 706 kB 29.7 MB/s eta 0:00:01\r\u001b[K     |█████████████▋                  | 716 kB 29.7 MB/s eta 0:00:01\r\u001b[K     |█████████████▉                  | 727 kB 29.7 MB/s eta 0:00:01\r\u001b[K     |██████████████                  | 737 kB 29.7 MB/s eta 0:00:01\r\u001b[K     |██████████████▏                 | 747 kB 29.7 MB/s eta 0:00:01\r\u001b[K     |██████████████▍                 | 757 kB 29.7 MB/s eta 0:00:01\r\u001b[K     |██████████████▋                 | 768 kB 29.7 MB/s eta 0:00:01\r\u001b[K     |██████████████▉                 | 778 kB 29.7 MB/s eta 0:00:01\r\u001b[K     |███████████████                 | 788 kB 29.7 MB/s eta 0:00:01\r\u001b[K     |███████████████▏                | 798 kB 29.7 MB/s eta 0:00:01\r\u001b[K     |███████████████▍                | 808 kB 29.7 MB/s eta 0:00:01\r\u001b[K     |███████████████▋                | 819 kB 29.7 MB/s eta 0:00:01\r\u001b[K     |███████████████▊                | 829 kB 29.7 MB/s eta 0:00:01\r\u001b[K     |████████████████                | 839 kB 29.7 MB/s eta 0:00:01\r\u001b[K     |████████████████▏               | 849 kB 29.7 MB/s eta 0:00:01\r\u001b[K     |████████████████▍               | 860 kB 29.7 MB/s eta 0:00:01\r\u001b[K     |████████████████▌               | 870 kB 29.7 MB/s eta 0:00:01\r\u001b[K     |████████████████▊               | 880 kB 29.7 MB/s eta 0:00:01\r\u001b[K     |█████████████████               | 890 kB 29.7 MB/s eta 0:00:01\r\u001b[K     |█████████████████▏              | 901 kB 29.7 MB/s eta 0:00:01\r\u001b[K     |█████████████████▍              | 911 kB 29.7 MB/s eta 0:00:01\r\u001b[K     |█████████████████▌              | 921 kB 29.7 MB/s eta 0:00:01\r\u001b[K     |█████████████████▊              | 931 kB 29.7 MB/s eta 0:00:01\r\u001b[K     |██████████████████              | 942 kB 29.7 MB/s eta 0:00:01\r\u001b[K     |██████████████████▏             | 952 kB 29.7 MB/s eta 0:00:01\r\u001b[K     |██████████████████▎             | 962 kB 29.7 MB/s eta 0:00:01\r\u001b[K     |██████████████████▌             | 972 kB 29.7 MB/s eta 0:00:01\r\u001b[K     |██████████████████▊             | 983 kB 29.7 MB/s eta 0:00:01\r\u001b[K     |███████████████████             | 993 kB 29.7 MB/s eta 0:00:01\r\u001b[K     |███████████████████             | 1.0 MB 29.7 MB/s eta 0:00:01\r\u001b[K     |███████████████████▎            | 1.0 MB 29.7 MB/s eta 0:00:01\r\u001b[K     |███████████████████▌            | 1.0 MB 29.7 MB/s eta 0:00:01\r\u001b[K     |███████████████████▊            | 1.0 MB 29.7 MB/s eta 0:00:01\r\u001b[K     |███████████████████▉            | 1.0 MB 29.7 MB/s eta 0:00:01\r\u001b[K     |████████████████████            | 1.1 MB 29.7 MB/s eta 0:00:01\r\u001b[K     |████████████████████▎           | 1.1 MB 29.7 MB/s eta 0:00:01\r\u001b[K     |████████████████████▌           | 1.1 MB 29.7 MB/s eta 0:00:01\r\u001b[K     |████████████████████▋           | 1.1 MB 29.7 MB/s eta 0:00:01\r\u001b[K     |████████████████████▉           | 1.1 MB 29.7 MB/s eta 0:00:01\r\u001b[K     |█████████████████████           | 1.1 MB 29.7 MB/s eta 0:00:01\r\u001b[K     |█████████████████████▎          | 1.1 MB 29.7 MB/s eta 0:00:01\r\u001b[K     |█████████████████████▍          | 1.1 MB 29.7 MB/s eta 0:00:01\r\u001b[K     |█████████████████████▋          | 1.1 MB 29.7 MB/s eta 0:00:01\r\u001b[K     |█████████████████████▉          | 1.1 MB 29.7 MB/s eta 0:00:01\r\u001b[K     |██████████████████████          | 1.2 MB 29.7 MB/s eta 0:00:01\r\u001b[K     |██████████████████████▏         | 1.2 MB 29.7 MB/s eta 0:00:01\r\u001b[K     |██████████████████████▍         | 1.2 MB 29.7 MB/s eta 0:00:01\r\u001b[K     |██████████████████████▋         | 1.2 MB 29.7 MB/s eta 0:00:01\r\u001b[K     |██████████████████████▉         | 1.2 MB 29.7 MB/s eta 0:00:01\r\u001b[K     |███████████████████████         | 1.2 MB 29.7 MB/s eta 0:00:01\r\u001b[K     |███████████████████████▏        | 1.2 MB 29.7 MB/s eta 0:00:01\r\u001b[K     |███████████████████████▍        | 1.2 MB 29.7 MB/s eta 0:00:01\r\u001b[K     |███████████████████████▋        | 1.2 MB 29.7 MB/s eta 0:00:01\r\u001b[K     |███████████████████████▊        | 1.2 MB 29.7 MB/s eta 0:00:01\r\u001b[K     |████████████████████████        | 1.3 MB 29.7 MB/s eta 0:00:01\r\u001b[K     |████████████████████████▏       | 1.3 MB 29.7 MB/s eta 0:00:01\r\u001b[K     |████████████████████████▍       | 1.3 MB 29.7 MB/s eta 0:00:01\r\u001b[K     |████████████████████████▌       | 1.3 MB 29.7 MB/s eta 0:00:01\r\u001b[K     |████████████████████████▊       | 1.3 MB 29.7 MB/s eta 0:00:01\r\u001b[K     |█████████████████████████       | 1.3 MB 29.7 MB/s eta 0:00:01\r\u001b[K     |█████████████████████████▏      | 1.3 MB 29.7 MB/s eta 0:00:01\r\u001b[K     |█████████████████████████▎      | 1.3 MB 29.7 MB/s eta 0:00:01\r\u001b[K     |█████████████████████████▌      | 1.3 MB 29.7 MB/s eta 0:00:01\r\u001b[K     |█████████████████████████▊      | 1.4 MB 29.7 MB/s eta 0:00:01\r\u001b[K     |██████████████████████████      | 1.4 MB 29.7 MB/s eta 0:00:01\r\u001b[K     |██████████████████████████      | 1.4 MB 29.7 MB/s eta 0:00:01\r\u001b[K     |██████████████████████████▎     | 1.4 MB 29.7 MB/s eta 0:00:01\r\u001b[K     |██████████████████████████▌     | 1.4 MB 29.7 MB/s eta 0:00:01\r\u001b[K     |██████████████████████████▊     | 1.4 MB 29.7 MB/s eta 0:00:01\r\u001b[K     |██████████████████████████▉     | 1.4 MB 29.7 MB/s eta 0:00:01\r\u001b[K     |███████████████████████████     | 1.4 MB 29.7 MB/s eta 0:00:01\r\u001b[K     |███████████████████████████▎    | 1.4 MB 29.7 MB/s eta 0:00:01\r\u001b[K     |███████████████████████████▌    | 1.4 MB 29.7 MB/s eta 0:00:01\r\u001b[K     |███████████████████████████▋    | 1.5 MB 29.7 MB/s eta 0:00:01\r\u001b[K     |███████████████████████████▉    | 1.5 MB 29.7 MB/s eta 0:00:01\r\u001b[K     |████████████████████████████    | 1.5 MB 29.7 MB/s eta 0:00:01\r\u001b[K     |████████████████████████████▎   | 1.5 MB 29.7 MB/s eta 0:00:01\r\u001b[K     |████████████████████████████▍   | 1.5 MB 29.7 MB/s eta 0:00:01\r\u001b[K     |████████████████████████████▋   | 1.5 MB 29.7 MB/s eta 0:00:01\r\u001b[K     |████████████████████████████▉   | 1.5 MB 29.7 MB/s eta 0:00:01\r\u001b[K     |█████████████████████████████   | 1.5 MB 29.7 MB/s eta 0:00:01\r\u001b[K     |█████████████████████████████▏  | 1.5 MB 29.7 MB/s eta 0:00:01\r\u001b[K     |█████████████████████████████▍  | 1.5 MB 29.7 MB/s eta 0:00:01\r\u001b[K     |█████████████████████████████▋  | 1.6 MB 29.7 MB/s eta 0:00:01\r\u001b[K     |█████████████████████████████▉  | 1.6 MB 29.7 MB/s eta 0:00:01\r\u001b[K     |██████████████████████████████  | 1.6 MB 29.7 MB/s eta 0:00:01\r\u001b[K     |██████████████████████████████▏ | 1.6 MB 29.7 MB/s eta 0:00:01\r\u001b[K     |██████████████████████████████▍ | 1.6 MB 29.7 MB/s eta 0:00:01\r\u001b[K     |██████████████████████████████▋ | 1.6 MB 29.7 MB/s eta 0:00:01\r\u001b[K     |██████████████████████████████▊ | 1.6 MB 29.7 MB/s eta 0:00:01\r\u001b[K     |███████████████████████████████ | 1.6 MB 29.7 MB/s eta 0:00:01\r\u001b[K     |███████████████████████████████▏| 1.6 MB 29.7 MB/s eta 0:00:01\r\u001b[K     |███████████████████████████████▍| 1.6 MB 29.7 MB/s eta 0:00:01\r\u001b[K     |███████████████████████████████▌| 1.7 MB 29.7 MB/s eta 0:00:01\r\u001b[K     |███████████████████████████████▊| 1.7 MB 29.7 MB/s eta 0:00:01\r\u001b[K     |████████████████████████████████| 1.7 MB 29.7 MB/s eta 0:00:01\r\u001b[K     |████████████████████████████████| 1.7 MB 29.7 MB/s \n",
            "\u001b[?25h  Installing build dependencies ... \u001b[?25l\u001b[?25hdone\n",
            "  Getting requirements to build wheel ... \u001b[?25l\u001b[?25hdone\n",
            "    Preparing wheel metadata ... \u001b[?25l\u001b[?25hdone\n",
            "Collecting mako\n",
            "  Downloading Mako-1.1.6-py2.py3-none-any.whl (75 kB)\n",
            "\u001b[K     |████████████████████████████████| 75 kB 4.6 MB/s \n",
            "\u001b[?25hCollecting pytools>=2011.2\n",
            "  Downloading pytools-2021.2.9.tar.gz (66 kB)\n",
            "\u001b[K     |████████████████████████████████| 66 kB 5.1 MB/s \n",
            "\u001b[?25hRequirement already satisfied: appdirs>=1.4.0 in /usr/local/lib/python3.7/dist-packages (from pycuda) (1.4.4)\n",
            "Requirement already satisfied: numpy>=1.6.0 in /usr/local/lib/python3.7/dist-packages (from pytools>=2011.2->pycuda) (1.19.5)\n",
            "Requirement already satisfied: MarkupSafe>=0.9.2 in /usr/local/lib/python3.7/dist-packages (from mako->pycuda) (2.0.1)\n",
            "Building wheels for collected packages: pycuda, pytools\n",
            "  Building wheel for pycuda (PEP 517) ... \u001b[?25l\u001b[?25hdone\n",
            "  Created wheel for pycuda: filename=pycuda-2021.1-cp37-cp37m-linux_x86_64.whl size=627626 sha256=8ccc98037923b38b884f096659ee4abcc5884b251d55b686a007e60d8097c962\n",
            "  Stored in directory: /root/.cache/pip/wheels/c4/ef/49/dc6a5feb8d980b37c83d465ecab24949a6aa19458522a9e001\n",
            "  Building wheel for pytools (setup.py) ... \u001b[?25l\u001b[?25hdone\n",
            "  Created wheel for pytools: filename=pytools-2021.2.9-py2.py3-none-any.whl size=62370 sha256=8ee24e70e708526db49aaca259f467343e06d80aa0fb567634a2a41765eece6d\n",
            "  Stored in directory: /root/.cache/pip/wheels/41/b9/6e/94bb014f6484b15ec77e7877f3a227609481ffd98db364504d\n",
            "Successfully built pycuda pytools\n",
            "Installing collected packages: pytools, mako, pycuda\n",
            "Successfully installed mako-1.1.6 pycuda-2021.1 pytools-2021.2.9\n"
          ]
        }
      ]
    },
    {
      "cell_type": "markdown",
      "metadata": {
        "id": "Xt4Pea0Psrx_"
      },
      "source": [
        "---\n",
        "# 3 Desarrollo\n",
        "Ejecución del algoritmo escala de grises en GPU."
      ]
    },
    {
      "cell_type": "code",
      "metadata": {
        "id": "8_uVXVJjz_Jr",
        "colab": {
          "base_uri": "https://localhost:8080/",
          "height": 355
        },
        "outputId": "313f0cd2-f251-4710-c181-d582184173fb"
      },
      "source": [
        "%matplotlib inline\n",
        "from datetime import datetime\n",
        "tiempo_total = datetime.now()\n",
        "\n",
        "import matplotlib.pyplot as plt\n",
        "import numpy\n",
        "from PIL import Image \n",
        "import pycuda.driver as cuda\n",
        "import pycuda.autoinit\n",
        "from pycuda.compiler import SourceModule\n",
        "\n",
        "# --------------------------------------------\n",
        "# Definición de función que transforma el tiempo en  milisegundos \n",
        "tiempo_en_ms = lambda dt:(dt.days * 24 * 60 * 60 + dt.seconds) * 1000 + dt.microseconds / 1000.0\n",
        "# --------------------------------------------\n",
        "\n",
        "img_nombre = 'pepe.jpeg'\n",
        "image = Image.open( img_nombre ) \n",
        "  \n",
        "# summarize some details about the image \n",
        "img_ancho, img_alto  = image.size \n",
        "\n",
        "# Convierto la imagen comprimida en JPEG/PNG a array\n",
        "img_O_cpu = numpy.asarray(image)\n",
        "img_O_cpu = img_O_cpu.astype( numpy.int32() )\n",
        "img_R_cpu = numpy.empty_like(img_O_cpu)\n",
        "print(\"img_O_cpu\", img_O_cpu)\n",
        "print(\"img_R_cpu\", img_R_cpu)\n",
        "\n",
        "# Reservo los 2 vectores en GPU(3 pixeles usa RGB * (el tamaño del array))\n",
        "img_O_gpu = cuda.mem_alloc( img_O_cpu.nbytes )\n",
        "img_R_gpu = cuda.mem_alloc( img_R_cpu.nbytes )\n",
        "\n",
        "# GPU - Copio la memoria al GPU.\n",
        "cuda.memcpy_htod( img_O_gpu, img_O_cpu )\n",
        "cuda.memcpy_htod( img_R_gpu, img_R_cpu )\n",
        "\n",
        "# CPU - Defino la función kernel que ejecutará en GPU.\n",
        "module = SourceModule(\"\"\"\n",
        "__global__ void kernel_img( int ancho, int alto, int *img_O, int *img_R )\n",
        "{\n",
        "  // Calculo las coordenadas del Thread en dos dimensiones.\n",
        "  int idx = threadIdx.x + blockIdx.x*blockDim.x;\n",
        "  int idy = threadIdx.y + blockIdx.y*blockDim.y;\n",
        "  float fGris = 0.0;\n",
        "  float rgbPixels = 0.0;\n",
        "  int pxl = 0;\n",
        "  \n",
        "  __device__ float[] average(int x, int y)\n",
        "  {\n",
        "    int blurfactor = 5;\n",
        "    float rtotal = 0.0;\n",
        "    float gtotal = 0.0;\n",
        "    float btotal = 0.0;\n",
        "    for (int i = x-blurfactor; i < x+blurfactor+1; i++)\n",
        "    {\n",
        "      for (int j = y-blurfactor; j < y+blurfactor+1; j++)\n",
        "      {\n",
        "        pxl = (i+(j*ancho))*3;\n",
        "        rtotal += (float)img_O[pxl  ]*0.299;  // Componente Rojo del pixel.\n",
        "        gtotal += (float)img_O[pxl+1]*0.599;  // Componente Verde del pixel.\n",
        "        btotal += (float)img_O[pxl+2]*0.11;   // Componente Azul del pixel.\n",
        "      }\n",
        "    }\n",
        "    double pepito = (pow((blurfactor * 2 + 1), 2));\n",
        "    rtotal = floor(rtotal / pepito);\n",
        "    gtotal = floor(gtotal / pepito);\n",
        "    btotal = floor(btotal / pepito);\n",
        "    \n",
        "    return [rtotal, gtotal, btotal];\n",
        "  }\n",
        "\n",
        "  // Verifico que los Thread, esten dentro de las dimensiones de la imagen.\n",
        "  if( idx < ancho && idy < alto )\n",
        "  {\n",
        "    // Calculo el color gris para el pixel a partir de los componentes.\n",
        "    pxl = (idx+(idy*ancho))*3;\n",
        "    rgbPixels = average(idx, idy);\n",
        "    //fGris = (float)img_O[pxl  ]*0.299;  // Componente Rojo del pixel.\n",
        "    //fGris +=(float)img_O[pxl+1]*0.599;  // Componente Verde del pixel.\n",
        "    //fGris +=(float)img_O[pxl+2]*0.11;   // Componente Azul del pixel.\n",
        "    // Escribo el color del pixel.\n",
        "    img_R[pxl  ] = (int) rgbPixels[0];\n",
        "    img_R[pxl+1] = (int) rgbPixels[1];\n",
        "    img_R[pxl+2] = (int) rgbPixels[2];\n",
        "  }\n",
        "}\n",
        "\"\"\") \n",
        "\n",
        "# Muestro los atributos de la imagen y como se ve antes del seudo filtro.\n",
        "print(\"Imagen del filtro: \" + img_nombre + \" -\" + image.mode + \"- [\" + str(img_ancho) + \", \" + str(img_alto ) + \"]\" )  \n",
        "\n",
        "# CPU - Genero la función kernel.\n",
        "kernel = module.get_function(\"kernel_img\")\n",
        "\n",
        "tiempo_img = datetime.now()\n",
        "\n",
        "dim_hilo_x = 16\n",
        "dim_bloque_x = numpy.int( (img_ancho+dim_hilo_x-1) / dim_hilo_x )\n",
        "\n",
        "dim_hilo_y = 19\n",
        "dim_bloque_y = numpy.int( (img_alto+dim_hilo_y-1) / dim_hilo_y )\n",
        "\n",
        "print( \"Thread: [\", dim_hilo_x, \",\", dim_hilo_y, \" ], Bloque : [\", dim_bloque_x, \",\", dim_bloque_y, \"]\" )\n",
        "print( \"Total de Thread: [\", dim_hilo_x*dim_bloque_x, \",\", dim_hilo_y*dim_bloque_y, \" ]\", \" = \", dim_hilo_x*dim_bloque_x*dim_hilo_y*dim_bloque_y )\n",
        "\n",
        "tiempo_img = datetime.now()\n",
        "\n",
        "kernel( numpy.int32(img_ancho), numpy.int32(img_alto), img_O_gpu, img_R_gpu, block=( dim_hilo_x, dim_hilo_y, 1 ), grid=(dim_bloque_x, dim_bloque_y,1) )\n",
        "\n",
        "tiempo_img = datetime.now() - tiempo_img\n",
        "\n",
        "# GPU - Copio el resultado desde la memoria GPU.\n",
        "cuda.memcpy_dtoh( img_R_cpu, img_R_gpu )\n",
        "\n",
        "# Muestro la imagen Original el filtro.\n",
        "plt.figure()\n",
        "imgplot=plt.imshow( img_O_cpu )\n",
        "\n",
        "# Muestro la imagen luego de aplicarle el filtro.\n",
        "plt.figure()\n",
        "imgplot=plt.imshow( img_R_cpu )\n",
        "\n",
        "tiempo_total = datetime.now() - tiempo_total\n",
        "\n",
        "print(\"Tiempo TOTAL: \", tiempo_en_ms( tiempo_total ), \"[ms]\" )\n",
        "print(\"Tiempo GPU  : \", tiempo_en_ms( tiempo_img ), \"[ms]\" )\n"
      ],
      "execution_count": 11,
      "outputs": [
        {
          "output_type": "error",
          "ename": "RuntimeError",
          "evalue": "ignored",
          "traceback": [
            "\u001b[0;31m---------------------------------------------------------------------------\u001b[0m",
            "\u001b[0;31mRuntimeError\u001b[0m                              Traceback (most recent call last)",
            "\u001b[0;32m<ipython-input-11-2e9692864f1d>\u001b[0m in \u001b[0;36m<module>\u001b[0;34m()\u001b[0m\n\u001b[1;32m      7\u001b[0m \u001b[0;32mfrom\u001b[0m \u001b[0mPIL\u001b[0m \u001b[0;32mimport\u001b[0m \u001b[0mImage\u001b[0m\u001b[0;34m\u001b[0m\u001b[0;34m\u001b[0m\u001b[0m\n\u001b[1;32m      8\u001b[0m \u001b[0;32mimport\u001b[0m \u001b[0mpycuda\u001b[0m\u001b[0;34m.\u001b[0m\u001b[0mdriver\u001b[0m \u001b[0;32mas\u001b[0m \u001b[0mcuda\u001b[0m\u001b[0;34m\u001b[0m\u001b[0;34m\u001b[0m\u001b[0m\n\u001b[0;32m----> 9\u001b[0;31m \u001b[0;32mimport\u001b[0m \u001b[0mpycuda\u001b[0m\u001b[0;34m.\u001b[0m\u001b[0mautoinit\u001b[0m\u001b[0;34m\u001b[0m\u001b[0;34m\u001b[0m\u001b[0m\n\u001b[0m\u001b[1;32m     10\u001b[0m \u001b[0;32mfrom\u001b[0m \u001b[0mpycuda\u001b[0m\u001b[0;34m.\u001b[0m\u001b[0mcompiler\u001b[0m \u001b[0;32mimport\u001b[0m \u001b[0mSourceModule\u001b[0m\u001b[0;34m\u001b[0m\u001b[0;34m\u001b[0m\u001b[0m\n\u001b[1;32m     11\u001b[0m \u001b[0;34m\u001b[0m\u001b[0m\n",
            "\u001b[0;32m/usr/local/lib/python3.7/dist-packages/pycuda/autoinit.py\u001b[0m in \u001b[0;36m<module>\u001b[0;34m()\u001b[0m\n\u001b[1;32m      3\u001b[0m \u001b[0;34m\u001b[0m\u001b[0m\n\u001b[1;32m      4\u001b[0m \u001b[0;31m# Initialize CUDA\u001b[0m\u001b[0;34m\u001b[0m\u001b[0;34m\u001b[0m\u001b[0;34m\u001b[0m\u001b[0m\n\u001b[0;32m----> 5\u001b[0;31m \u001b[0mcuda\u001b[0m\u001b[0;34m.\u001b[0m\u001b[0minit\u001b[0m\u001b[0;34m(\u001b[0m\u001b[0;34m)\u001b[0m\u001b[0;34m\u001b[0m\u001b[0;34m\u001b[0m\u001b[0m\n\u001b[0m\u001b[1;32m      6\u001b[0m \u001b[0;34m\u001b[0m\u001b[0m\n\u001b[1;32m      7\u001b[0m \u001b[0;32mfrom\u001b[0m \u001b[0mpycuda\u001b[0m\u001b[0;34m.\u001b[0m\u001b[0mtools\u001b[0m \u001b[0;32mimport\u001b[0m \u001b[0mmake_default_context\u001b[0m  \u001b[0;31m# noqa: E402\u001b[0m\u001b[0;34m\u001b[0m\u001b[0;34m\u001b[0m\u001b[0m\n",
            "\u001b[0;31mRuntimeError\u001b[0m: cuInit failed: no CUDA-capable device is detected"
          ]
        }
      ]
    },
    {
      "cell_type": "code",
      "metadata": {
        "colab": {
          "base_uri": "https://localhost:8080/"
        },
        "id": "bxc32DYdAEHE",
        "outputId": "35e9be40-0fe3-478f-94da-d346193da46b"
      },
      "source": [
        "pip install nvidia-cuda-toolkit"
      ],
      "execution_count": 10,
      "outputs": [
        {
          "output_type": "stream",
          "name": "stdout",
          "text": [
            "\u001b[31mERROR: Could not find a version that satisfies the requirement nvidia-cuda-toolkit (from versions: none)\u001b[0m\n",
            "\u001b[31mERROR: No matching distribution found for nvidia-cuda-toolkit\u001b[0m\n"
          ]
        }
      ]
    },
    {
      "cell_type": "markdown",
      "metadata": {
        "id": "zqAv4Gt7qRrh"
      },
      "source": [
        "---\n",
        "# 4 Tabla de pasos\n",
        "\n",
        "\n",
        " Procesador | Funciòn | Detalle\n",
        "------------|---------|----------\n",
        "CPU      |  wget url_imagen       | Lectura de la direcciòn URL de la imagen (jpg) a procesar.\n",
        "CPU      | pip install pycuda    | Instala en el cuaderno los driver de CUDA para Python.\n",
        "CPU      |  matplotlib inline    | Macro de Colab para mostrar imagenes.\n",
        "CPU      |  import                | Importa los módulos para funcionar.\n",
        "CPU      |  datetime.now()        | Toma el tiempo actual.\n",
        "CPU      |  Image.open()          | Abre el archivo de la imagen.\n",
        "CPU      |  numpy.asarray(imagen) | Convierte el formato comprimido JPG a RAW.\n",
        "CPU      |  numpy.empty_like(()   | Genera el array destino, que tendrá a la imagen resultado. \n",
        "**GPU**  |  cuda.mem_alloc()      | Reserva la memoria para las imagenes en GPU.\n",
        "**GPU**  |  cuda.memcpy_htod()    | Copio los valores en crudo de las imagenes al GPU.\n",
        "CPU      |  SourceModule()        | Posee el còdigo del kernel.\n",
        "CPU      |  module.get_function() | convierte el texto del kernel en funcion de Python.\n",
        "CPU      |  dim_hilo_x, dim_hilo_y| Calcula las dimensiones para la ejecuciòn de 2D.\n",
        "**GPU**  |  kernel()              | Ejecuta el kernel en GPU, enviando los parametros.\n",
        "CPU      |  print()               | Informa los atributos de la imagen.\n",
        "CPU      | cuda.memcpy_dtoh()     | Copia desde la memoria GPU al CPU.\n",
        "CPU      |  plt.imshow            | Muestra la imagen original.\n",
        "CPU      |  plt.imshow            | Muestra la imagen resultado.\n",
        "\n"
      ]
    },
    {
      "cell_type": "markdown",
      "metadata": {
        "id": "Qtiz4_7bmaDe"
      },
      "source": [
        "---\n",
        "# 5 Conclusiones\n",
        "\n",
        "Las conclusiones son explicadas en clase..."
      ]
    },
    {
      "cell_type": "markdown",
      "metadata": {
        "id": "ufDYy0LPmbYH"
      },
      "source": [
        "---\n",
        "# 6 Bibliografía\n",
        "\n",
        "[1] MARKDOWN SYNTAX Colab: [PDF](https://github.com/wvaliente/SOA_HPC/blob/main/Documentos/markdown-cheatsheet-online.pdf)\n",
        "\n",
        "[2] Introducción a Python: [Página Colab](https://github.com/wvaliente/SOA_HPC/blob/main/Documentos/Python_Basico.ipynb) \n",
        "\n",
        "[3] Tutorial Point Colab: [PDF](https://github.com/wvaliente/SOA_HPC/blob/main/Documentos/markdown-cheatsheet-online.pdf)\n",
        "\n",
        "[4] 2009, SINTESIS DIGITAL DE COLOR UTILIZANDO TONOS DE GRIS, ING. JESÚS GUSTAVO FLORES ERAÑA : [PDF](https://ninive.uaslp.mx/xmlui/bitstream/handle/i/2264/MCA1SDC00901.pdf?sequence=1&isAllowed=y)\n"
      ]
    }
  ]
}